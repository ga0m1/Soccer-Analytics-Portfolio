{
 "cells": [
  {
   "cell_type": "code",
   "execution_count": 3,
   "id": "ce462949-8d73-4b3b-ba4a-f6350f73dca5",
   "metadata": {
    "scrolled": true
   },
   "outputs": [
    {
     "name": "stdout",
     "output_type": "stream",
     "text": [
      "Requirement already satisfied: statsbombpy in c:\\users\\rog\\anaconda3\\envs\\football_analytics\\lib\\site-packages (1.16.0)\n",
      "Requirement already satisfied: pandas in c:\\users\\rog\\anaconda3\\envs\\football_analytics\\lib\\site-packages (from statsbombpy) (2.2.3)\n",
      "Requirement already satisfied: requests in c:\\users\\rog\\anaconda3\\envs\\football_analytics\\lib\\site-packages (from statsbombpy) (2.32.3)\n",
      "Requirement already satisfied: requests-cache in c:\\users\\rog\\anaconda3\\envs\\football_analytics\\lib\\site-packages (from statsbombpy) (1.2.1)\n",
      "Requirement already satisfied: inflect in c:\\users\\rog\\anaconda3\\envs\\football_analytics\\lib\\site-packages (from statsbombpy) (7.5.0)\n",
      "Requirement already satisfied: joblib in c:\\users\\rog\\anaconda3\\envs\\football_analytics\\lib\\site-packages (from statsbombpy) (1.4.2)\n",
      "Requirement already satisfied: more_itertools>=8.5.0 in c:\\users\\rog\\anaconda3\\envs\\football_analytics\\lib\\site-packages (from inflect->statsbombpy) (10.3.0)\n",
      "Requirement already satisfied: typeguard>=4.0.1 in c:\\users\\rog\\anaconda3\\envs\\football_analytics\\lib\\site-packages (from inflect->statsbombpy) (4.4.4)\n",
      "Requirement already satisfied: typing_extensions>=4.14.0 in c:\\users\\rog\\anaconda3\\envs\\football_analytics\\lib\\site-packages (from typeguard>=4.0.1->inflect->statsbombpy) (4.15.0)\n",
      "Requirement already satisfied: numpy>=1.23.2 in c:\\users\\rog\\anaconda3\\envs\\football_analytics\\lib\\site-packages (from pandas->statsbombpy) (2.1.3)\n",
      "Requirement already satisfied: python-dateutil>=2.8.2 in c:\\users\\rog\\anaconda3\\envs\\football_analytics\\lib\\site-packages (from pandas->statsbombpy) (2.9.0.post0)\n",
      "Requirement already satisfied: pytz>=2020.1 in c:\\users\\rog\\anaconda3\\envs\\football_analytics\\lib\\site-packages (from pandas->statsbombpy) (2024.1)\n",
      "Requirement already satisfied: tzdata>=2022.7 in c:\\users\\rog\\anaconda3\\envs\\football_analytics\\lib\\site-packages (from pandas->statsbombpy) (2025.2)\n",
      "Requirement already satisfied: six>=1.5 in c:\\users\\rog\\anaconda3\\envs\\football_analytics\\lib\\site-packages (from python-dateutil>=2.8.2->pandas->statsbombpy) (1.17.0)\n",
      "Requirement already satisfied: charset-normalizer<4,>=2 in c:\\users\\rog\\anaconda3\\envs\\football_analytics\\lib\\site-packages (from requests->statsbombpy) (3.3.2)\n",
      "Requirement already satisfied: idna<4,>=2.5 in c:\\users\\rog\\anaconda3\\envs\\football_analytics\\lib\\site-packages (from requests->statsbombpy) (3.7)\n",
      "Requirement already satisfied: urllib3<3,>=1.21.1 in c:\\users\\rog\\anaconda3\\envs\\football_analytics\\lib\\site-packages (from requests->statsbombpy) (2.3.0)\n",
      "Requirement already satisfied: certifi>=2017.4.17 in c:\\users\\rog\\anaconda3\\envs\\football_analytics\\lib\\site-packages (from requests->statsbombpy) (2025.4.26)\n",
      "Requirement already satisfied: attrs>=21.2 in c:\\users\\rog\\anaconda3\\envs\\football_analytics\\lib\\site-packages (from requests-cache->statsbombpy) (24.3.0)\n",
      "Requirement already satisfied: cattrs>=22.2 in c:\\users\\rog\\anaconda3\\envs\\football_analytics\\lib\\site-packages (from requests-cache->statsbombpy) (25.2.0)\n",
      "Requirement already satisfied: platformdirs>=2.5 in c:\\users\\rog\\anaconda3\\envs\\football_analytics\\lib\\site-packages (from requests-cache->statsbombpy) (4.3.7)\n",
      "Requirement already satisfied: url-normalize>=1.4 in c:\\users\\rog\\anaconda3\\envs\\football_analytics\\lib\\site-packages (from requests-cache->statsbombpy) (2.2.1)\n"
     ]
    }
   ],
   "source": [
    "!pip install statsbombpy\n",
    "\n",
    "# Import libraries\n",
    "import pandas as pd\n",
    "from statsbombpy import sb\n",
    "import matplotlib.pyplot as plt"
   ]
  },
  {
   "cell_type": "code",
   "execution_count": 4,
   "id": "ed7a59f8-9299-4c8f-a6f7-2708ab209db4",
   "metadata": {},
   "outputs": [
    {
     "name": "stderr",
     "output_type": "stream",
     "text": [
      "C:\\Users\\ROG\\anaconda3\\envs\\football_analytics\\Lib\\site-packages\\statsbombpy\\api_client.py:21: NoAuthWarning: credentials were not supplied. open data access only\n",
      "  warnings.warn(\n"
     ]
    },
    {
     "data": {
      "text/html": [
       "<div>\n",
       "<style scoped>\n",
       "    .dataframe tbody tr th:only-of-type {\n",
       "        vertical-align: middle;\n",
       "    }\n",
       "\n",
       "    .dataframe tbody tr th {\n",
       "        vertical-align: top;\n",
       "    }\n",
       "\n",
       "    .dataframe thead th {\n",
       "        text-align: right;\n",
       "    }\n",
       "</style>\n",
       "<table border=\"1\" class=\"dataframe\">\n",
       "  <thead>\n",
       "    <tr style=\"text-align: right;\">\n",
       "      <th></th>\n",
       "      <th>competition_id</th>\n",
       "      <th>season_id</th>\n",
       "      <th>country_name</th>\n",
       "      <th>competition_name</th>\n",
       "      <th>competition_gender</th>\n",
       "      <th>competition_youth</th>\n",
       "      <th>competition_international</th>\n",
       "      <th>season_name</th>\n",
       "      <th>match_updated</th>\n",
       "      <th>match_updated_360</th>\n",
       "      <th>match_available_360</th>\n",
       "      <th>match_available</th>\n",
       "    </tr>\n",
       "  </thead>\n",
       "  <tbody>\n",
       "    <tr>\n",
       "      <th>0</th>\n",
       "      <td>9</td>\n",
       "      <td>281</td>\n",
       "      <td>Germany</td>\n",
       "      <td>1. Bundesliga</td>\n",
       "      <td>male</td>\n",
       "      <td>False</td>\n",
       "      <td>False</td>\n",
       "      <td>2023/2024</td>\n",
       "      <td>2024-09-28T20:46:38.893391</td>\n",
       "      <td>2025-07-06T04:26:07.636270</td>\n",
       "      <td>2025-07-06T04:26:07.636270</td>\n",
       "      <td>2024-09-28T20:46:38.893391</td>\n",
       "    </tr>\n",
       "    <tr>\n",
       "      <th>1</th>\n",
       "      <td>9</td>\n",
       "      <td>27</td>\n",
       "      <td>Germany</td>\n",
       "      <td>1. Bundesliga</td>\n",
       "      <td>male</td>\n",
       "      <td>False</td>\n",
       "      <td>False</td>\n",
       "      <td>2015/2016</td>\n",
       "      <td>2024-05-19T11:11:14.192381</td>\n",
       "      <td>None</td>\n",
       "      <td>None</td>\n",
       "      <td>2024-05-19T11:11:14.192381</td>\n",
       "    </tr>\n",
       "    <tr>\n",
       "      <th>2</th>\n",
       "      <td>1267</td>\n",
       "      <td>107</td>\n",
       "      <td>Africa</td>\n",
       "      <td>African Cup of Nations</td>\n",
       "      <td>male</td>\n",
       "      <td>False</td>\n",
       "      <td>True</td>\n",
       "      <td>2023</td>\n",
       "      <td>2024-09-28T01:57:35.846538</td>\n",
       "      <td>None</td>\n",
       "      <td>None</td>\n",
       "      <td>2024-09-28T01:57:35.846538</td>\n",
       "    </tr>\n",
       "    <tr>\n",
       "      <th>3</th>\n",
       "      <td>16</td>\n",
       "      <td>4</td>\n",
       "      <td>Europe</td>\n",
       "      <td>Champions League</td>\n",
       "      <td>male</td>\n",
       "      <td>False</td>\n",
       "      <td>False</td>\n",
       "      <td>2018/2019</td>\n",
       "      <td>2025-05-08T15:10:50.835274</td>\n",
       "      <td>2021-06-13T16:17:31.694</td>\n",
       "      <td>None</td>\n",
       "      <td>2025-05-08T15:10:50.835274</td>\n",
       "    </tr>\n",
       "    <tr>\n",
       "      <th>4</th>\n",
       "      <td>16</td>\n",
       "      <td>1</td>\n",
       "      <td>Europe</td>\n",
       "      <td>Champions League</td>\n",
       "      <td>male</td>\n",
       "      <td>False</td>\n",
       "      <td>False</td>\n",
       "      <td>2017/2018</td>\n",
       "      <td>2024-02-13T02:35:28.134882</td>\n",
       "      <td>2021-06-13T16:17:31.694</td>\n",
       "      <td>None</td>\n",
       "      <td>2024-02-13T02:35:28.134882</td>\n",
       "    </tr>\n",
       "    <tr>\n",
       "      <th>...</th>\n",
       "      <td>...</td>\n",
       "      <td>...</td>\n",
       "      <td>...</td>\n",
       "      <td>...</td>\n",
       "      <td>...</td>\n",
       "      <td>...</td>\n",
       "      <td>...</td>\n",
       "      <td>...</td>\n",
       "      <td>...</td>\n",
       "      <td>...</td>\n",
       "      <td>...</td>\n",
       "      <td>...</td>\n",
       "    </tr>\n",
       "    <tr>\n",
       "      <th>70</th>\n",
       "      <td>35</td>\n",
       "      <td>75</td>\n",
       "      <td>Europe</td>\n",
       "      <td>UEFA Europa League</td>\n",
       "      <td>male</td>\n",
       "      <td>False</td>\n",
       "      <td>False</td>\n",
       "      <td>1988/1989</td>\n",
       "      <td>2024-02-12T14:45:05.702250</td>\n",
       "      <td>2021-06-13T16:17:31.694</td>\n",
       "      <td>None</td>\n",
       "      <td>2024-02-12T14:45:05.702250</td>\n",
       "    </tr>\n",
       "    <tr>\n",
       "      <th>71</th>\n",
       "      <td>53</td>\n",
       "      <td>315</td>\n",
       "      <td>Europe</td>\n",
       "      <td>UEFA Women's Euro</td>\n",
       "      <td>female</td>\n",
       "      <td>False</td>\n",
       "      <td>True</td>\n",
       "      <td>2025</td>\n",
       "      <td>2025-07-28T14:19:20.467348</td>\n",
       "      <td>2025-07-29T16:03:07.355174</td>\n",
       "      <td>2025-07-29T16:03:07.355174</td>\n",
       "      <td>2025-07-28T14:19:20.467348</td>\n",
       "    </tr>\n",
       "    <tr>\n",
       "      <th>72</th>\n",
       "      <td>53</td>\n",
       "      <td>106</td>\n",
       "      <td>Europe</td>\n",
       "      <td>UEFA Women's Euro</td>\n",
       "      <td>female</td>\n",
       "      <td>False</td>\n",
       "      <td>True</td>\n",
       "      <td>2022</td>\n",
       "      <td>2024-02-13T13:27:17.178263</td>\n",
       "      <td>2024-02-13T13:30:52.820588</td>\n",
       "      <td>2024-02-13T13:30:52.820588</td>\n",
       "      <td>2024-02-13T13:27:17.178263</td>\n",
       "    </tr>\n",
       "    <tr>\n",
       "      <th>73</th>\n",
       "      <td>72</td>\n",
       "      <td>107</td>\n",
       "      <td>International</td>\n",
       "      <td>Women's World Cup</td>\n",
       "      <td>female</td>\n",
       "      <td>False</td>\n",
       "      <td>True</td>\n",
       "      <td>2023</td>\n",
       "      <td>2025-07-14T10:07:06.620906</td>\n",
       "      <td>2025-07-14T10:10:27.224586</td>\n",
       "      <td>2025-07-14T10:10:27.224586</td>\n",
       "      <td>2025-07-14T10:07:06.620906</td>\n",
       "    </tr>\n",
       "    <tr>\n",
       "      <th>74</th>\n",
       "      <td>72</td>\n",
       "      <td>30</td>\n",
       "      <td>International</td>\n",
       "      <td>Women's World Cup</td>\n",
       "      <td>female</td>\n",
       "      <td>False</td>\n",
       "      <td>True</td>\n",
       "      <td>2019</td>\n",
       "      <td>2024-08-08T15:57:56.748740</td>\n",
       "      <td>2021-06-13T16:17:31.694</td>\n",
       "      <td>None</td>\n",
       "      <td>2024-08-08T15:57:56.748740</td>\n",
       "    </tr>\n",
       "  </tbody>\n",
       "</table>\n",
       "<p>75 rows × 12 columns</p>\n",
       "</div>"
      ],
      "text/plain": [
       "    competition_id  season_id   country_name        competition_name  \\\n",
       "0                9        281        Germany           1. Bundesliga   \n",
       "1                9         27        Germany           1. Bundesliga   \n",
       "2             1267        107         Africa  African Cup of Nations   \n",
       "3               16          4         Europe        Champions League   \n",
       "4               16          1         Europe        Champions League   \n",
       "..             ...        ...            ...                     ...   \n",
       "70              35         75         Europe      UEFA Europa League   \n",
       "71              53        315         Europe       UEFA Women's Euro   \n",
       "72              53        106         Europe       UEFA Women's Euro   \n",
       "73              72        107  International       Women's World Cup   \n",
       "74              72         30  International       Women's World Cup   \n",
       "\n",
       "   competition_gender  competition_youth  competition_international  \\\n",
       "0                male              False                      False   \n",
       "1                male              False                      False   \n",
       "2                male              False                       True   \n",
       "3                male              False                      False   \n",
       "4                male              False                      False   \n",
       "..                ...                ...                        ...   \n",
       "70               male              False                      False   \n",
       "71             female              False                       True   \n",
       "72             female              False                       True   \n",
       "73             female              False                       True   \n",
       "74             female              False                       True   \n",
       "\n",
       "   season_name               match_updated           match_updated_360  \\\n",
       "0    2023/2024  2024-09-28T20:46:38.893391  2025-07-06T04:26:07.636270   \n",
       "1    2015/2016  2024-05-19T11:11:14.192381                        None   \n",
       "2         2023  2024-09-28T01:57:35.846538                        None   \n",
       "3    2018/2019  2025-05-08T15:10:50.835274     2021-06-13T16:17:31.694   \n",
       "4    2017/2018  2024-02-13T02:35:28.134882     2021-06-13T16:17:31.694   \n",
       "..         ...                         ...                         ...   \n",
       "70   1988/1989  2024-02-12T14:45:05.702250     2021-06-13T16:17:31.694   \n",
       "71        2025  2025-07-28T14:19:20.467348  2025-07-29T16:03:07.355174   \n",
       "72        2022  2024-02-13T13:27:17.178263  2024-02-13T13:30:52.820588   \n",
       "73        2023  2025-07-14T10:07:06.620906  2025-07-14T10:10:27.224586   \n",
       "74        2019  2024-08-08T15:57:56.748740     2021-06-13T16:17:31.694   \n",
       "\n",
       "           match_available_360             match_available  \n",
       "0   2025-07-06T04:26:07.636270  2024-09-28T20:46:38.893391  \n",
       "1                         None  2024-05-19T11:11:14.192381  \n",
       "2                         None  2024-09-28T01:57:35.846538  \n",
       "3                         None  2025-05-08T15:10:50.835274  \n",
       "4                         None  2024-02-13T02:35:28.134882  \n",
       "..                         ...                         ...  \n",
       "70                        None  2024-02-12T14:45:05.702250  \n",
       "71  2025-07-29T16:03:07.355174  2025-07-28T14:19:20.467348  \n",
       "72  2024-02-13T13:30:52.820588  2024-02-13T13:27:17.178263  \n",
       "73  2025-07-14T10:10:27.224586  2025-07-14T10:07:06.620906  \n",
       "74                        None  2024-08-08T15:57:56.748740  \n",
       "\n",
       "[75 rows x 12 columns]"
      ]
     },
     "execution_count": 4,
     "metadata": {},
     "output_type": "execute_result"
    }
   ],
   "source": [
    "# This command shows us all the competitions and seasons available in StatsBomb's free data\n",
    "# It's like looking at a catalog to see what data we can get.\n",
    "# After running this, find the row for 'Premier League' and the most recent season_name, then note its 'season_id'.\n",
    "sb.competitions()"
   ]
  },
  {
   "cell_type": "code",
   "execution_count": 5,
   "id": "8d0105c9-71ef-4f55-846d-817769c8fc09",
   "metadata": {},
   "outputs": [
    {
     "name": "stdout",
     "output_type": "stream",
     "text": [
      "    competition_id  season_id country_name competition_name  \\\n",
      "64               2         27      England   Premier League   \n",
      "65               2         44      England   Premier League   \n",
      "\n",
      "   competition_gender  competition_youth  competition_international  \\\n",
      "64               male              False                      False   \n",
      "65               male              False                      False   \n",
      "\n",
      "   season_name               match_updated        match_updated_360  \\\n",
      "64   2015/2016  2025-04-23T14:36:29.347042  2021-06-13T16:17:31.694   \n",
      "65   2003/2004  2025-06-24T13:53:07.585114  2021-06-13T16:17:31.694   \n",
      "\n",
      "   match_available_360             match_available  \n",
      "64                None  2025-04-23T14:36:29.347042  \n",
      "65                None  2025-06-24T13:53:07.585114  \n"
     ]
    },
    {
     "name": "stderr",
     "output_type": "stream",
     "text": [
      "C:\\Users\\ROG\\anaconda3\\envs\\football_analytics\\Lib\\site-packages\\statsbombpy\\api_client.py:21: NoAuthWarning: credentials were not supplied. open data access only\n",
      "  warnings.warn(\n"
     ]
    }
   ],
   "source": [
    "# First, get the full table of competitions into a variable named 'competitions'\n",
    "competitions = sb.competitions()\n",
    "\n",
    "# Now, filter this table to find only the rows where the 'competition_name' column is exactly 'Premier League'\n",
    "premier_league_seasons = competitions[competitions['competition_name'] == 'Premier League']\n",
    "\n",
    "# Finally, print the resulting filtered table\n",
    "print(premier_league_seasons)"
   ]
  },
  {
   "cell_type": "code",
   "execution_count": 6,
   "id": "71550205-e21e-4472-a622-fc58d10e6a82",
   "metadata": {},
   "outputs": [],
   "source": [
    "# --- Step 1: Define the competition and season we want ---\n",
    "# Premier League is competition_id = 2\n",
    "# We confirmed that the 2015/2016 season is season_id = 27\n",
    "COMPETITION_ID = 2\n",
    "SEASON_ID = 27"
   ]
  },
  {
   "cell_type": "code",
   "execution_count": 7,
   "id": "46025e07-afd9-49ea-930e-63a0e571aaac",
   "metadata": {},
   "outputs": [
    {
     "name": "stderr",
     "output_type": "stream",
     "text": [
      "C:\\Users\\ROG\\anaconda3\\envs\\football_analytics\\Lib\\site-packages\\statsbombpy\\api_client.py:21: NoAuthWarning: credentials were not supplied. open data access only\n",
      "  warnings.warn(\n"
     ]
    }
   ],
   "source": [
    "# --- Step 2: Get all matches from that season ---\n",
    "matches = sb.matches(competition_id=COMPETITION_ID, season_id=SEASON_ID)"
   ]
  },
  {
   "cell_type": "code",
   "execution_count": 8,
   "id": "b3decee6-cb5d-407c-88f1-82588662f9b4",
   "metadata": {},
   "outputs": [],
   "source": [
    "# --- Step 3: Filter for Liverpool's matches ---\n",
    "team_name = \"Liverpool\"\n",
    "liverpool_matches = matches[(matches['home_team'] == team_name) | (matches['away_team'] == team_name)]"
   ]
  },
  {
   "cell_type": "code",
   "execution_count": 9,
   "id": "3b58d911-5a18-4a4c-847d-493b5b20a73a",
   "metadata": {},
   "outputs": [],
   "source": [
    "# --- Step 4: Extract the match IDs into a list ---\n",
    "match_ids = liverpool_matches['match_id'].tolist()"
   ]
  },
  {
   "cell_type": "code",
   "execution_count": 12,
   "id": "1a1e450b-9d20-4dc1-874b-980656032505",
   "metadata": {},
   "outputs": [
    {
     "name": "stdout",
     "output_type": "stream",
     "text": [
      "Index(['match_id', 'match_date', 'kick_off', 'competition', 'season',\n",
      "       'home_team', 'away_team', 'home_score', 'away_score', 'match_status',\n",
      "       'match_status_360', 'last_updated', 'last_updated_360', 'match_week',\n",
      "       'competition_stage', 'stadium', 'referee', 'home_managers',\n",
      "       'away_managers', 'data_version', 'shot_fidelity_version',\n",
      "       'xy_fidelity_version'],\n",
      "      dtype='object')\n"
     ]
    }
   ],
   "source": [
    "# Print all the column names of the liverpool_matches DataFrame\n",
    "print(liverpool_matches.columns)"
   ]
  },
  {
   "cell_type": "code",
   "execution_count": 13,
   "id": "89dfbdab-2b04-4e8c-ae29-b7d76340220d",
   "metadata": {},
   "outputs": [
    {
     "name": "stdout",
     "output_type": "stream",
     "text": [
      "Successfully found 38 matches for Liverpool in the 2015/2016 season.\n",
      "The first 5 match IDs are: [3754042, 3754055, 3754226, 3754255, 3753984]\n"
     ]
    }
   ],
   "source": [
    "# --- Step 5: Verify our result ---\n",
    "print(f\"Successfully found {len(match_ids)} matches for {team_name} in the {liverpool_matches.iloc[0]['season']} season.\")\n",
    "print(\"The first 5 match IDs are:\", match_ids[:5])"
   ]
  },
  {
   "cell_type": "code",
   "execution_count": 14,
   "id": "0d4b8df0-0dcd-485f-b0c8-412e3ef434f2",
   "metadata": {},
   "outputs": [],
   "source": [
    "# Create an empty list to store shot events from all matches\n",
    "coutinho_shots_list = []"
   ]
  },
  {
   "cell_type": "code",
   "execution_count": 15,
   "id": "d879a97c-6019-4610-9bcb-676e085f48f0",
   "metadata": {},
   "outputs": [],
   "source": [
    "# The player we want to analyze. \n",
    "# IMPORTANT: The name must be an exact match to what's in the data.\n",
    "player_name = \"Philippe Coutinho Correia\""
   ]
  },
  {
   "cell_type": "code",
   "execution_count": 16,
   "id": "d2bc3fa4-731a-4a35-9ce7-4529e6cb2431",
   "metadata": {
    "scrolled": true
   },
   "outputs": [
    {
     "name": "stdout",
     "output_type": "stream",
     "text": [
      "Processing match_id: 3754042\n"
     ]
    },
    {
     "name": "stderr",
     "output_type": "stream",
     "text": [
      "C:\\Users\\ROG\\anaconda3\\envs\\football_analytics\\Lib\\site-packages\\statsbombpy\\api_client.py:21: NoAuthWarning: credentials were not supplied. open data access only\n",
      "  warnings.warn(\n"
     ]
    },
    {
     "name": "stdout",
     "output_type": "stream",
     "text": [
      "Processing match_id: 3754055\n"
     ]
    },
    {
     "name": "stderr",
     "output_type": "stream",
     "text": [
      "C:\\Users\\ROG\\anaconda3\\envs\\football_analytics\\Lib\\site-packages\\statsbombpy\\api_client.py:21: NoAuthWarning: credentials were not supplied. open data access only\n",
      "  warnings.warn(\n"
     ]
    },
    {
     "name": "stdout",
     "output_type": "stream",
     "text": [
      "Processing match_id: 3754226\n"
     ]
    },
    {
     "name": "stderr",
     "output_type": "stream",
     "text": [
      "C:\\Users\\ROG\\anaconda3\\envs\\football_analytics\\Lib\\site-packages\\statsbombpy\\api_client.py:21: NoAuthWarning: credentials were not supplied. open data access only\n",
      "  warnings.warn(\n"
     ]
    },
    {
     "name": "stdout",
     "output_type": "stream",
     "text": [
      "Processing match_id: 3754255\n"
     ]
    },
    {
     "name": "stderr",
     "output_type": "stream",
     "text": [
      "C:\\Users\\ROG\\anaconda3\\envs\\football_analytics\\Lib\\site-packages\\statsbombpy\\api_client.py:21: NoAuthWarning: credentials were not supplied. open data access only\n",
      "  warnings.warn(\n"
     ]
    },
    {
     "name": "stdout",
     "output_type": "stream",
     "text": [
      "Processing match_id: 3753984\n"
     ]
    },
    {
     "name": "stderr",
     "output_type": "stream",
     "text": [
      "C:\\Users\\ROG\\anaconda3\\envs\\football_analytics\\Lib\\site-packages\\statsbombpy\\api_client.py:21: NoAuthWarning: credentials were not supplied. open data access only\n",
      "  warnings.warn(\n"
     ]
    },
    {
     "name": "stdout",
     "output_type": "stream",
     "text": [
      "Processing match_id: 3754040\n"
     ]
    },
    {
     "name": "stderr",
     "output_type": "stream",
     "text": [
      "C:\\Users\\ROG\\anaconda3\\envs\\football_analytics\\Lib\\site-packages\\statsbombpy\\api_client.py:21: NoAuthWarning: credentials were not supplied. open data access only\n",
      "  warnings.warn(\n"
     ]
    },
    {
     "name": "stdout",
     "output_type": "stream",
     "text": [
      "Processing match_id: 3754060\n"
     ]
    },
    {
     "name": "stderr",
     "output_type": "stream",
     "text": [
      "C:\\Users\\ROG\\anaconda3\\envs\\football_analytics\\Lib\\site-packages\\statsbombpy\\api_client.py:21: NoAuthWarning: credentials were not supplied. open data access only\n",
      "  warnings.warn(\n"
     ]
    },
    {
     "name": "stdout",
     "output_type": "stream",
     "text": [
      "Processing match_id: 3754047\n"
     ]
    },
    {
     "name": "stderr",
     "output_type": "stream",
     "text": [
      "C:\\Users\\ROG\\anaconda3\\envs\\football_analytics\\Lib\\site-packages\\statsbombpy\\api_client.py:21: NoAuthWarning: credentials were not supplied. open data access only\n",
      "  warnings.warn(\n"
     ]
    },
    {
     "name": "stdout",
     "output_type": "stream",
     "text": [
      "Processing match_id: 3754051\n"
     ]
    },
    {
     "name": "stderr",
     "output_type": "stream",
     "text": [
      "C:\\Users\\ROG\\anaconda3\\envs\\football_analytics\\Lib\\site-packages\\statsbombpy\\api_client.py:21: NoAuthWarning: credentials were not supplied. open data access only\n",
      "  warnings.warn(\n"
     ]
    },
    {
     "name": "stdout",
     "output_type": "stream",
     "text": [
      "Processing match_id: 3754098\n"
     ]
    },
    {
     "name": "stderr",
     "output_type": "stream",
     "text": [
      "C:\\Users\\ROG\\anaconda3\\envs\\football_analytics\\Lib\\site-packages\\statsbombpy\\api_client.py:21: NoAuthWarning: credentials were not supplied. open data access only\n",
      "  warnings.warn(\n"
     ]
    },
    {
     "name": "stdout",
     "output_type": "stream",
     "text": [
      "Processing match_id: 3754143\n"
     ]
    },
    {
     "name": "stderr",
     "output_type": "stream",
     "text": [
      "C:\\Users\\ROG\\anaconda3\\envs\\football_analytics\\Lib\\site-packages\\statsbombpy\\api_client.py:21: NoAuthWarning: credentials were not supplied. open data access only\n",
      "  warnings.warn(\n"
     ]
    },
    {
     "name": "stdout",
     "output_type": "stream",
     "text": [
      "Processing match_id: 3754198\n"
     ]
    },
    {
     "name": "stderr",
     "output_type": "stream",
     "text": [
      "C:\\Users\\ROG\\anaconda3\\envs\\football_analytics\\Lib\\site-packages\\statsbombpy\\api_client.py:21: NoAuthWarning: credentials were not supplied. open data access only\n",
      "  warnings.warn(\n"
     ]
    },
    {
     "name": "stdout",
     "output_type": "stream",
     "text": [
      "Processing match_id: 3754212\n"
     ]
    },
    {
     "name": "stderr",
     "output_type": "stream",
     "text": [
      "C:\\Users\\ROG\\anaconda3\\envs\\football_analytics\\Lib\\site-packages\\statsbombpy\\api_client.py:21: NoAuthWarning: credentials were not supplied. open data access only\n",
      "  warnings.warn(\n"
     ]
    },
    {
     "name": "stdout",
     "output_type": "stream",
     "text": [
      "Processing match_id: 3754208\n"
     ]
    },
    {
     "name": "stderr",
     "output_type": "stream",
     "text": [
      "C:\\Users\\ROG\\anaconda3\\envs\\football_analytics\\Lib\\site-packages\\statsbombpy\\api_client.py:21: NoAuthWarning: credentials were not supplied. open data access only\n",
      "  warnings.warn(\n"
     ]
    },
    {
     "name": "stdout",
     "output_type": "stream",
     "text": [
      "Processing match_id: 3754230\n"
     ]
    },
    {
     "name": "stderr",
     "output_type": "stream",
     "text": [
      "C:\\Users\\ROG\\anaconda3\\envs\\football_analytics\\Lib\\site-packages\\statsbombpy\\api_client.py:21: NoAuthWarning: credentials were not supplied. open data access only\n",
      "  warnings.warn(\n"
     ]
    },
    {
     "name": "stdout",
     "output_type": "stream",
     "text": [
      "Processing match_id: 3754351\n"
     ]
    },
    {
     "name": "stderr",
     "output_type": "stream",
     "text": [
      "C:\\Users\\ROG\\anaconda3\\envs\\football_analytics\\Lib\\site-packages\\statsbombpy\\api_client.py:21: NoAuthWarning: credentials were not supplied. open data access only\n",
      "  warnings.warn(\n"
     ]
    },
    {
     "name": "stdout",
     "output_type": "stream",
     "text": [
      "Processing match_id: 3754343\n"
     ]
    },
    {
     "name": "stderr",
     "output_type": "stream",
     "text": [
      "C:\\Users\\ROG\\anaconda3\\envs\\football_analytics\\Lib\\site-packages\\statsbombpy\\api_client.py:21: NoAuthWarning: credentials were not supplied. open data access only\n",
      "  warnings.warn(\n"
     ]
    },
    {
     "name": "stdout",
     "output_type": "stream",
     "text": [
      "Processing match_id: 3754003\n"
     ]
    },
    {
     "name": "stderr",
     "output_type": "stream",
     "text": [
      "C:\\Users\\ROG\\anaconda3\\envs\\football_analytics\\Lib\\site-packages\\statsbombpy\\api_client.py:21: NoAuthWarning: credentials were not supplied. open data access only\n",
      "  warnings.warn(\n"
     ]
    },
    {
     "name": "stdout",
     "output_type": "stream",
     "text": [
      "Processing match_id: 3753985\n"
     ]
    },
    {
     "name": "stderr",
     "output_type": "stream",
     "text": [
      "C:\\Users\\ROG\\anaconda3\\envs\\football_analytics\\Lib\\site-packages\\statsbombpy\\api_client.py:21: NoAuthWarning: credentials were not supplied. open data access only\n",
      "  warnings.warn(\n"
     ]
    },
    {
     "name": "stdout",
     "output_type": "stream",
     "text": [
      "Processing match_id: 3754129\n"
     ]
    },
    {
     "name": "stderr",
     "output_type": "stream",
     "text": [
      "C:\\Users\\ROG\\anaconda3\\envs\\football_analytics\\Lib\\site-packages\\statsbombpy\\api_client.py:21: NoAuthWarning: credentials were not supplied. open data access only\n",
      "  warnings.warn(\n"
     ]
    },
    {
     "name": "stdout",
     "output_type": "stream",
     "text": [
      "Processing match_id: 3754064\n"
     ]
    },
    {
     "name": "stderr",
     "output_type": "stream",
     "text": [
      "C:\\Users\\ROG\\anaconda3\\envs\\football_analytics\\Lib\\site-packages\\statsbombpy\\api_client.py:21: NoAuthWarning: credentials were not supplied. open data access only\n",
      "  warnings.warn(\n"
     ]
    },
    {
     "name": "stdout",
     "output_type": "stream",
     "text": [
      "Processing match_id: 3753986\n"
     ]
    },
    {
     "name": "stderr",
     "output_type": "stream",
     "text": [
      "C:\\Users\\ROG\\anaconda3\\envs\\football_analytics\\Lib\\site-packages\\statsbombpy\\api_client.py:21: NoAuthWarning: credentials were not supplied. open data access only\n",
      "  warnings.warn(\n"
     ]
    },
    {
     "name": "stdout",
     "output_type": "stream",
     "text": [
      "Processing match_id: 3753991\n"
     ]
    },
    {
     "name": "stderr",
     "output_type": "stream",
     "text": [
      "C:\\Users\\ROG\\anaconda3\\envs\\football_analytics\\Lib\\site-packages\\statsbombpy\\api_client.py:21: NoAuthWarning: credentials were not supplied. open data access only\n",
      "  warnings.warn(\n"
     ]
    },
    {
     "name": "stdout",
     "output_type": "stream",
     "text": [
      "Processing match_id: 3754018\n"
     ]
    },
    {
     "name": "stderr",
     "output_type": "stream",
     "text": [
      "C:\\Users\\ROG\\anaconda3\\envs\\football_analytics\\Lib\\site-packages\\statsbombpy\\api_client.py:21: NoAuthWarning: credentials were not supplied. open data access only\n",
      "  warnings.warn(\n"
     ]
    },
    {
     "name": "stdout",
     "output_type": "stream",
     "text": [
      "Processing match_id: 3754087\n"
     ]
    },
    {
     "name": "stderr",
     "output_type": "stream",
     "text": [
      "C:\\Users\\ROG\\anaconda3\\envs\\football_analytics\\Lib\\site-packages\\statsbombpy\\api_client.py:21: NoAuthWarning: credentials were not supplied. open data access only\n",
      "  warnings.warn(\n"
     ]
    },
    {
     "name": "stdout",
     "output_type": "stream",
     "text": [
      "Processing match_id: 3754154\n"
     ]
    },
    {
     "name": "stderr",
     "output_type": "stream",
     "text": [
      "C:\\Users\\ROG\\anaconda3\\envs\\football_analytics\\Lib\\site-packages\\statsbombpy\\api_client.py:21: NoAuthWarning: credentials were not supplied. open data access only\n",
      "  warnings.warn(\n"
     ]
    },
    {
     "name": "stdout",
     "output_type": "stream",
     "text": [
      "Processing match_id: 3754214\n"
     ]
    },
    {
     "name": "stderr",
     "output_type": "stream",
     "text": [
      "C:\\Users\\ROG\\anaconda3\\envs\\football_analytics\\Lib\\site-packages\\statsbombpy\\api_client.py:21: NoAuthWarning: credentials were not supplied. open data access only\n",
      "  warnings.warn(\n"
     ]
    },
    {
     "name": "stdout",
     "output_type": "stream",
     "text": [
      "Processing match_id: 3754216\n"
     ]
    },
    {
     "name": "stderr",
     "output_type": "stream",
     "text": [
      "C:\\Users\\ROG\\anaconda3\\envs\\football_analytics\\Lib\\site-packages\\statsbombpy\\api_client.py:21: NoAuthWarning: credentials were not supplied. open data access only\n",
      "  warnings.warn(\n"
     ]
    },
    {
     "name": "stdout",
     "output_type": "stream",
     "text": [
      "Processing match_id: 3754220\n"
     ]
    },
    {
     "name": "stderr",
     "output_type": "stream",
     "text": [
      "C:\\Users\\ROG\\anaconda3\\envs\\football_analytics\\Lib\\site-packages\\statsbombpy\\api_client.py:21: NoAuthWarning: credentials were not supplied. open data access only\n",
      "  warnings.warn(\n"
     ]
    },
    {
     "name": "stdout",
     "output_type": "stream",
     "text": [
      "Processing match_id: 3754251\n"
     ]
    },
    {
     "name": "stderr",
     "output_type": "stream",
     "text": [
      "C:\\Users\\ROG\\anaconda3\\envs\\football_analytics\\Lib\\site-packages\\statsbombpy\\api_client.py:21: NoAuthWarning: credentials were not supplied. open data access only\n",
      "  warnings.warn(\n"
     ]
    },
    {
     "name": "stdout",
     "output_type": "stream",
     "text": [
      "Processing match_id: 3754275\n"
     ]
    },
    {
     "name": "stderr",
     "output_type": "stream",
     "text": [
      "C:\\Users\\ROG\\anaconda3\\envs\\football_analytics\\Lib\\site-packages\\statsbombpy\\api_client.py:21: NoAuthWarning: credentials were not supplied. open data access only\n",
      "  warnings.warn(\n"
     ]
    },
    {
     "name": "stdout",
     "output_type": "stream",
     "text": [
      "Processing match_id: 3754294\n"
     ]
    },
    {
     "name": "stderr",
     "output_type": "stream",
     "text": [
      "C:\\Users\\ROG\\anaconda3\\envs\\football_analytics\\Lib\\site-packages\\statsbombpy\\api_client.py:21: NoAuthWarning: credentials were not supplied. open data access only\n",
      "  warnings.warn(\n"
     ]
    },
    {
     "name": "stdout",
     "output_type": "stream",
     "text": [
      "Processing match_id: 3754305\n"
     ]
    },
    {
     "name": "stderr",
     "output_type": "stream",
     "text": [
      "C:\\Users\\ROG\\anaconda3\\envs\\football_analytics\\Lib\\site-packages\\statsbombpy\\api_client.py:21: NoAuthWarning: credentials were not supplied. open data access only\n",
      "  warnings.warn(\n"
     ]
    },
    {
     "name": "stdout",
     "output_type": "stream",
     "text": [
      "Processing match_id: 3754316\n"
     ]
    },
    {
     "name": "stderr",
     "output_type": "stream",
     "text": [
      "C:\\Users\\ROG\\anaconda3\\envs\\football_analytics\\Lib\\site-packages\\statsbombpy\\api_client.py:21: NoAuthWarning: credentials were not supplied. open data access only\n",
      "  warnings.warn(\n"
     ]
    },
    {
     "name": "stdout",
     "output_type": "stream",
     "text": [
      "Processing match_id: 3754342\n"
     ]
    },
    {
     "name": "stderr",
     "output_type": "stream",
     "text": [
      "C:\\Users\\ROG\\anaconda3\\envs\\football_analytics\\Lib\\site-packages\\statsbombpy\\api_client.py:21: NoAuthWarning: credentials were not supplied. open data access only\n",
      "  warnings.warn(\n"
     ]
    },
    {
     "name": "stdout",
     "output_type": "stream",
     "text": [
      "Processing match_id: 3754345\n"
     ]
    },
    {
     "name": "stderr",
     "output_type": "stream",
     "text": [
      "C:\\Users\\ROG\\anaconda3\\envs\\football_analytics\\Lib\\site-packages\\statsbombpy\\api_client.py:21: NoAuthWarning: credentials were not supplied. open data access only\n",
      "  warnings.warn(\n"
     ]
    },
    {
     "name": "stdout",
     "output_type": "stream",
     "text": [
      "Processing match_id: 3754348\n"
     ]
    },
    {
     "name": "stderr",
     "output_type": "stream",
     "text": [
      "C:\\Users\\ROG\\anaconda3\\envs\\football_analytics\\Lib\\site-packages\\statsbombpy\\api_client.py:21: NoAuthWarning: credentials were not supplied. open data access only\n",
      "  warnings.warn(\n"
     ]
    },
    {
     "name": "stdout",
     "output_type": "stream",
     "text": [
      "Processing match_id: 3754020\n"
     ]
    },
    {
     "name": "stderr",
     "output_type": "stream",
     "text": [
      "C:\\Users\\ROG\\anaconda3\\envs\\football_analytics\\Lib\\site-packages\\statsbombpy\\api_client.py:21: NoAuthWarning: credentials were not supplied. open data access only\n",
      "  warnings.warn(\n"
     ]
    }
   ],
   "source": [
    "# Loop through each match ID from our list\n",
    "for match_id in match_ids:\n",
    "    # Print progress so we know the code is running\n",
    "    print(f\"Processing match_id: {match_id}\")\n",
    "    \n",
    "    # Get the event data for the current match\n",
    "    # This is where the main download happens for each match\n",
    "    events = sb.events(match_id=match_id)\n",
    "    \n",
    "    # Filter for shot events ('type' == 'Shot') by our target player ('player' == player_name)\n",
    "    player_shots = events[(events['type'] == 'Shot') & (events['player'] == player_name)].copy()\n",
    "    \n",
    "    # Add the shots DataFrame from this match to our list\n",
    "    coutinho_shots_list.append(player_shots)"
   ]
  },
  {
   "cell_type": "code",
   "execution_count": 17,
   "id": "df666fdd-ecb6-4c06-aba5-80f9ef02186a",
   "metadata": {},
   "outputs": [],
   "source": [
    "# After the loop, concatenate all the small DataFrames in the list into one big DataFrame\n",
    "coutinho_df = pd.concat(coutinho_shots_list, ignore_index=True)"
   ]
  },
  {
   "cell_type": "code",
   "execution_count": 18,
   "id": "66cd20a4-0d86-4637-a858-90ed466186f4",
   "metadata": {},
   "outputs": [
    {
     "name": "stdout",
     "output_type": "stream",
     "text": [
      "\n",
      "Finished processing. Found a total of 111 shots for Philippe Coutinho Correia in the season.\n"
     ]
    }
   ],
   "source": [
    "# --- Verification Step ---\n",
    "print(f\"\\nFinished processing. Found a total of {len(coutinho_df)} shots for {player_name} in the season.\")"
   ]
  },
  {
   "cell_type": "code",
   "execution_count": 19,
   "id": "766dbe99-bd61-491f-a71c-a8d3bed03b9c",
   "metadata": {},
   "outputs": [
    {
     "data": {
      "text/html": [
       "<div>\n",
       "<style scoped>\n",
       "    .dataframe tbody tr th:only-of-type {\n",
       "        vertical-align: middle;\n",
       "    }\n",
       "\n",
       "    .dataframe tbody tr th {\n",
       "        vertical-align: top;\n",
       "    }\n",
       "\n",
       "    .dataframe thead th {\n",
       "        text-align: right;\n",
       "    }\n",
       "</style>\n",
       "<table border=\"1\" class=\"dataframe\">\n",
       "  <thead>\n",
       "    <tr style=\"text-align: right;\">\n",
       "      <th></th>\n",
       "      <th>50_50</th>\n",
       "      <th>ball_receipt_outcome</th>\n",
       "      <th>ball_recovery_offensive</th>\n",
       "      <th>ball_recovery_recovery_failure</th>\n",
       "      <th>block_deflection</th>\n",
       "      <th>block_offensive</th>\n",
       "      <th>carry_end_location</th>\n",
       "      <th>clearance_aerial_won</th>\n",
       "      <th>clearance_body_part</th>\n",
       "      <th>clearance_head</th>\n",
       "      <th>...</th>\n",
       "      <th>goalkeeper_punched_out</th>\n",
       "      <th>pass_miscommunication</th>\n",
       "      <th>bad_behaviour_card</th>\n",
       "      <th>foul_committed_penalty</th>\n",
       "      <th>clearance_other</th>\n",
       "      <th>foul_won_penalty</th>\n",
       "      <th>goalkeeper_shot_saved_off_target</th>\n",
       "      <th>shot_saved_off_target</th>\n",
       "      <th>goalkeeper_success_in_play</th>\n",
       "      <th>shot_follows_dribble</th>\n",
       "    </tr>\n",
       "  </thead>\n",
       "  <tbody>\n",
       "    <tr>\n",
       "      <th>0</th>\n",
       "      <td>NaN</td>\n",
       "      <td>NaN</td>\n",
       "      <td>NaN</td>\n",
       "      <td>NaN</td>\n",
       "      <td>NaN</td>\n",
       "      <td>NaN</td>\n",
       "      <td>NaN</td>\n",
       "      <td>NaN</td>\n",
       "      <td>NaN</td>\n",
       "      <td>NaN</td>\n",
       "      <td>...</td>\n",
       "      <td>NaN</td>\n",
       "      <td>NaN</td>\n",
       "      <td>NaN</td>\n",
       "      <td>NaN</td>\n",
       "      <td>NaN</td>\n",
       "      <td>NaN</td>\n",
       "      <td>NaN</td>\n",
       "      <td>NaN</td>\n",
       "      <td>NaN</td>\n",
       "      <td>NaN</td>\n",
       "    </tr>\n",
       "    <tr>\n",
       "      <th>1</th>\n",
       "      <td>NaN</td>\n",
       "      <td>NaN</td>\n",
       "      <td>NaN</td>\n",
       "      <td>NaN</td>\n",
       "      <td>NaN</td>\n",
       "      <td>NaN</td>\n",
       "      <td>NaN</td>\n",
       "      <td>NaN</td>\n",
       "      <td>NaN</td>\n",
       "      <td>NaN</td>\n",
       "      <td>...</td>\n",
       "      <td>NaN</td>\n",
       "      <td>NaN</td>\n",
       "      <td>NaN</td>\n",
       "      <td>NaN</td>\n",
       "      <td>NaN</td>\n",
       "      <td>NaN</td>\n",
       "      <td>NaN</td>\n",
       "      <td>NaN</td>\n",
       "      <td>NaN</td>\n",
       "      <td>NaN</td>\n",
       "    </tr>\n",
       "    <tr>\n",
       "      <th>2</th>\n",
       "      <td>NaN</td>\n",
       "      <td>NaN</td>\n",
       "      <td>NaN</td>\n",
       "      <td>NaN</td>\n",
       "      <td>NaN</td>\n",
       "      <td>NaN</td>\n",
       "      <td>NaN</td>\n",
       "      <td>NaN</td>\n",
       "      <td>NaN</td>\n",
       "      <td>NaN</td>\n",
       "      <td>...</td>\n",
       "      <td>NaN</td>\n",
       "      <td>NaN</td>\n",
       "      <td>NaN</td>\n",
       "      <td>NaN</td>\n",
       "      <td>NaN</td>\n",
       "      <td>NaN</td>\n",
       "      <td>NaN</td>\n",
       "      <td>NaN</td>\n",
       "      <td>NaN</td>\n",
       "      <td>NaN</td>\n",
       "    </tr>\n",
       "    <tr>\n",
       "      <th>3</th>\n",
       "      <td>NaN</td>\n",
       "      <td>NaN</td>\n",
       "      <td>NaN</td>\n",
       "      <td>NaN</td>\n",
       "      <td>NaN</td>\n",
       "      <td>NaN</td>\n",
       "      <td>NaN</td>\n",
       "      <td>NaN</td>\n",
       "      <td>NaN</td>\n",
       "      <td>NaN</td>\n",
       "      <td>...</td>\n",
       "      <td>NaN</td>\n",
       "      <td>NaN</td>\n",
       "      <td>NaN</td>\n",
       "      <td>NaN</td>\n",
       "      <td>NaN</td>\n",
       "      <td>NaN</td>\n",
       "      <td>NaN</td>\n",
       "      <td>NaN</td>\n",
       "      <td>NaN</td>\n",
       "      <td>NaN</td>\n",
       "    </tr>\n",
       "    <tr>\n",
       "      <th>4</th>\n",
       "      <td>NaN</td>\n",
       "      <td>NaN</td>\n",
       "      <td>NaN</td>\n",
       "      <td>NaN</td>\n",
       "      <td>NaN</td>\n",
       "      <td>NaN</td>\n",
       "      <td>NaN</td>\n",
       "      <td>NaN</td>\n",
       "      <td>NaN</td>\n",
       "      <td>NaN</td>\n",
       "      <td>...</td>\n",
       "      <td>NaN</td>\n",
       "      <td>NaN</td>\n",
       "      <td>NaN</td>\n",
       "      <td>NaN</td>\n",
       "      <td>NaN</td>\n",
       "      <td>NaN</td>\n",
       "      <td>NaN</td>\n",
       "      <td>NaN</td>\n",
       "      <td>NaN</td>\n",
       "      <td>NaN</td>\n",
       "    </tr>\n",
       "  </tbody>\n",
       "</table>\n",
       "<p>5 rows × 112 columns</p>\n",
       "</div>"
      ],
      "text/plain": [
       "  50_50 ball_receipt_outcome ball_recovery_offensive  \\\n",
       "0   NaN                  NaN                     NaN   \n",
       "1   NaN                  NaN                     NaN   \n",
       "2   NaN                  NaN                     NaN   \n",
       "3   NaN                  NaN                     NaN   \n",
       "4   NaN                  NaN                     NaN   \n",
       "\n",
       "  ball_recovery_recovery_failure block_deflection block_offensive  \\\n",
       "0                            NaN              NaN             NaN   \n",
       "1                            NaN              NaN             NaN   \n",
       "2                            NaN              NaN             NaN   \n",
       "3                            NaN              NaN             NaN   \n",
       "4                            NaN              NaN             NaN   \n",
       "\n",
       "  carry_end_location clearance_aerial_won clearance_body_part clearance_head  \\\n",
       "0                NaN                  NaN                 NaN            NaN   \n",
       "1                NaN                  NaN                 NaN            NaN   \n",
       "2                NaN                  NaN                 NaN            NaN   \n",
       "3                NaN                  NaN                 NaN            NaN   \n",
       "4                NaN                  NaN                 NaN            NaN   \n",
       "\n",
       "   ... goalkeeper_punched_out pass_miscommunication bad_behaviour_card  \\\n",
       "0  ...                    NaN                   NaN                NaN   \n",
       "1  ...                    NaN                   NaN                NaN   \n",
       "2  ...                    NaN                   NaN                NaN   \n",
       "3  ...                    NaN                   NaN                NaN   \n",
       "4  ...                    NaN                   NaN                NaN   \n",
       "\n",
       "  foul_committed_penalty clearance_other foul_won_penalty  \\\n",
       "0                    NaN             NaN              NaN   \n",
       "1                    NaN             NaN              NaN   \n",
       "2                    NaN             NaN              NaN   \n",
       "3                    NaN             NaN              NaN   \n",
       "4                    NaN             NaN              NaN   \n",
       "\n",
       "  goalkeeper_shot_saved_off_target shot_saved_off_target  \\\n",
       "0                              NaN                   NaN   \n",
       "1                              NaN                   NaN   \n",
       "2                              NaN                   NaN   \n",
       "3                              NaN                   NaN   \n",
       "4                              NaN                   NaN   \n",
       "\n",
       "  goalkeeper_success_in_play  shot_follows_dribble  \n",
       "0                        NaN                   NaN  \n",
       "1                        NaN                   NaN  \n",
       "2                        NaN                   NaN  \n",
       "3                        NaN                   NaN  \n",
       "4                        NaN                   NaN  \n",
       "\n",
       "[5 rows x 112 columns]"
      ]
     },
     "execution_count": 19,
     "metadata": {},
     "output_type": "execute_result"
    }
   ],
   "source": [
    "# Display the first 5 rows of our final DataFrame\n",
    "coutinho_df.head()"
   ]
  },
  {
   "cell_type": "code",
   "execution_count": 21,
   "id": "0f8122a4-643e-48c9-92c4-528c0c210e6d",
   "metadata": {},
   "outputs": [
    {
     "name": "stdout",
     "output_type": "stream",
     "text": [
      "Data prepared for plotting. 'x' and 'y' columns have been added and a clean copy is created.\n"
     ]
    },
    {
     "data": {
      "text/html": [
       "<div>\n",
       "<style scoped>\n",
       "    .dataframe tbody tr th:only-of-type {\n",
       "        vertical-align: middle;\n",
       "    }\n",
       "\n",
       "    .dataframe tbody tr th {\n",
       "        vertical-align: top;\n",
       "    }\n",
       "\n",
       "    .dataframe thead th {\n",
       "        text-align: right;\n",
       "    }\n",
       "</style>\n",
       "<table border=\"1\" class=\"dataframe\">\n",
       "  <thead>\n",
       "    <tr style=\"text-align: right;\">\n",
       "      <th></th>\n",
       "      <th>50_50</th>\n",
       "      <th>ball_receipt_outcome</th>\n",
       "      <th>ball_recovery_offensive</th>\n",
       "      <th>ball_recovery_recovery_failure</th>\n",
       "      <th>block_deflection</th>\n",
       "      <th>block_offensive</th>\n",
       "      <th>carry_end_location</th>\n",
       "      <th>clearance_aerial_won</th>\n",
       "      <th>clearance_body_part</th>\n",
       "      <th>clearance_head</th>\n",
       "      <th>...</th>\n",
       "      <th>bad_behaviour_card</th>\n",
       "      <th>foul_committed_penalty</th>\n",
       "      <th>clearance_other</th>\n",
       "      <th>foul_won_penalty</th>\n",
       "      <th>goalkeeper_shot_saved_off_target</th>\n",
       "      <th>shot_saved_off_target</th>\n",
       "      <th>goalkeeper_success_in_play</th>\n",
       "      <th>shot_follows_dribble</th>\n",
       "      <th>x</th>\n",
       "      <th>y</th>\n",
       "    </tr>\n",
       "  </thead>\n",
       "  <tbody>\n",
       "    <tr>\n",
       "      <th>0</th>\n",
       "      <td>NaN</td>\n",
       "      <td>NaN</td>\n",
       "      <td>NaN</td>\n",
       "      <td>NaN</td>\n",
       "      <td>NaN</td>\n",
       "      <td>NaN</td>\n",
       "      <td>NaN</td>\n",
       "      <td>NaN</td>\n",
       "      <td>NaN</td>\n",
       "      <td>NaN</td>\n",
       "      <td>...</td>\n",
       "      <td>NaN</td>\n",
       "      <td>NaN</td>\n",
       "      <td>NaN</td>\n",
       "      <td>NaN</td>\n",
       "      <td>NaN</td>\n",
       "      <td>NaN</td>\n",
       "      <td>NaN</td>\n",
       "      <td>NaN</td>\n",
       "      <td>106.5</td>\n",
       "      <td>39.6</td>\n",
       "    </tr>\n",
       "    <tr>\n",
       "      <th>1</th>\n",
       "      <td>NaN</td>\n",
       "      <td>NaN</td>\n",
       "      <td>NaN</td>\n",
       "      <td>NaN</td>\n",
       "      <td>NaN</td>\n",
       "      <td>NaN</td>\n",
       "      <td>NaN</td>\n",
       "      <td>NaN</td>\n",
       "      <td>NaN</td>\n",
       "      <td>NaN</td>\n",
       "      <td>...</td>\n",
       "      <td>NaN</td>\n",
       "      <td>NaN</td>\n",
       "      <td>NaN</td>\n",
       "      <td>NaN</td>\n",
       "      <td>NaN</td>\n",
       "      <td>NaN</td>\n",
       "      <td>NaN</td>\n",
       "      <td>NaN</td>\n",
       "      <td>104.2</td>\n",
       "      <td>22.1</td>\n",
       "    </tr>\n",
       "    <tr>\n",
       "      <th>2</th>\n",
       "      <td>NaN</td>\n",
       "      <td>NaN</td>\n",
       "      <td>NaN</td>\n",
       "      <td>NaN</td>\n",
       "      <td>NaN</td>\n",
       "      <td>NaN</td>\n",
       "      <td>NaN</td>\n",
       "      <td>NaN</td>\n",
       "      <td>NaN</td>\n",
       "      <td>NaN</td>\n",
       "      <td>...</td>\n",
       "      <td>NaN</td>\n",
       "      <td>NaN</td>\n",
       "      <td>NaN</td>\n",
       "      <td>NaN</td>\n",
       "      <td>NaN</td>\n",
       "      <td>NaN</td>\n",
       "      <td>NaN</td>\n",
       "      <td>NaN</td>\n",
       "      <td>97.4</td>\n",
       "      <td>38.6</td>\n",
       "    </tr>\n",
       "    <tr>\n",
       "      <th>3</th>\n",
       "      <td>NaN</td>\n",
       "      <td>NaN</td>\n",
       "      <td>NaN</td>\n",
       "      <td>NaN</td>\n",
       "      <td>NaN</td>\n",
       "      <td>NaN</td>\n",
       "      <td>NaN</td>\n",
       "      <td>NaN</td>\n",
       "      <td>NaN</td>\n",
       "      <td>NaN</td>\n",
       "      <td>...</td>\n",
       "      <td>NaN</td>\n",
       "      <td>NaN</td>\n",
       "      <td>NaN</td>\n",
       "      <td>NaN</td>\n",
       "      <td>NaN</td>\n",
       "      <td>NaN</td>\n",
       "      <td>NaN</td>\n",
       "      <td>NaN</td>\n",
       "      <td>97.2</td>\n",
       "      <td>25.8</td>\n",
       "    </tr>\n",
       "    <tr>\n",
       "      <th>4</th>\n",
       "      <td>NaN</td>\n",
       "      <td>NaN</td>\n",
       "      <td>NaN</td>\n",
       "      <td>NaN</td>\n",
       "      <td>NaN</td>\n",
       "      <td>NaN</td>\n",
       "      <td>NaN</td>\n",
       "      <td>NaN</td>\n",
       "      <td>NaN</td>\n",
       "      <td>NaN</td>\n",
       "      <td>...</td>\n",
       "      <td>NaN</td>\n",
       "      <td>NaN</td>\n",
       "      <td>NaN</td>\n",
       "      <td>NaN</td>\n",
       "      <td>NaN</td>\n",
       "      <td>NaN</td>\n",
       "      <td>NaN</td>\n",
       "      <td>NaN</td>\n",
       "      <td>96.2</td>\n",
       "      <td>44.6</td>\n",
       "    </tr>\n",
       "  </tbody>\n",
       "</table>\n",
       "<p>5 rows × 114 columns</p>\n",
       "</div>"
      ],
      "text/plain": [
       "  50_50 ball_receipt_outcome ball_recovery_offensive  \\\n",
       "0   NaN                  NaN                     NaN   \n",
       "1   NaN                  NaN                     NaN   \n",
       "2   NaN                  NaN                     NaN   \n",
       "3   NaN                  NaN                     NaN   \n",
       "4   NaN                  NaN                     NaN   \n",
       "\n",
       "  ball_recovery_recovery_failure block_deflection block_offensive  \\\n",
       "0                            NaN              NaN             NaN   \n",
       "1                            NaN              NaN             NaN   \n",
       "2                            NaN              NaN             NaN   \n",
       "3                            NaN              NaN             NaN   \n",
       "4                            NaN              NaN             NaN   \n",
       "\n",
       "  carry_end_location clearance_aerial_won clearance_body_part clearance_head  \\\n",
       "0                NaN                  NaN                 NaN            NaN   \n",
       "1                NaN                  NaN                 NaN            NaN   \n",
       "2                NaN                  NaN                 NaN            NaN   \n",
       "3                NaN                  NaN                 NaN            NaN   \n",
       "4                NaN                  NaN                 NaN            NaN   \n",
       "\n",
       "   ... bad_behaviour_card foul_committed_penalty clearance_other  \\\n",
       "0  ...                NaN                    NaN             NaN   \n",
       "1  ...                NaN                    NaN             NaN   \n",
       "2  ...                NaN                    NaN             NaN   \n",
       "3  ...                NaN                    NaN             NaN   \n",
       "4  ...                NaN                    NaN             NaN   \n",
       "\n",
       "  foul_won_penalty goalkeeper_shot_saved_off_target shot_saved_off_target  \\\n",
       "0              NaN                              NaN                   NaN   \n",
       "1              NaN                              NaN                   NaN   \n",
       "2              NaN                              NaN                   NaN   \n",
       "3              NaN                              NaN                   NaN   \n",
       "4              NaN                              NaN                   NaN   \n",
       "\n",
       "  goalkeeper_success_in_play shot_follows_dribble      x     y  \n",
       "0                        NaN                  NaN  106.5  39.6  \n",
       "1                        NaN                  NaN  104.2  22.1  \n",
       "2                        NaN                  NaN   97.4  38.6  \n",
       "3                        NaN                  NaN   97.2  25.8  \n",
       "4                        NaN                  NaN   96.2  44.6  \n",
       "\n",
       "[5 rows x 114 columns]"
      ]
     },
     "execution_count": 21,
     "metadata": {},
     "output_type": "execute_result"
    }
   ],
   "source": [
    "# --- Data Preparation for Plotting (Optimized Version) ---\n",
    "\n",
    "# Split the 'location' column into two new columns\n",
    "coutinho_df[['x', 'y']] = pd.DataFrame(coutinho_df['location'].tolist(), index=coutinho_df.index)\n",
    "\n",
    "# Create a clean, de-fragmented copy of the DataFrame to resolve the warning\n",
    "coutinho_df = coutinho_df.copy()\n",
    "\n",
    "print(\"Data prepared for plotting. 'x' and 'y' columns have been added and a clean copy is created.\")\n",
    "coutinho_df.head()"
   ]
  },
  {
   "cell_type": "code",
   "execution_count": 26,
   "id": "6dba3a54-748d-45d1-9bb1-7ee2c3373744",
   "metadata": {},
   "outputs": [
    {
     "name": "stdout",
     "output_type": "stream",
     "text": [
      "Requirement already satisfied: mplsoccer in c:\\users\\rog\\anaconda3\\envs\\football_analytics\\lib\\site-packages (1.5.1)\n",
      "Requirement already satisfied: matplotlib>=3.6 in c:\\users\\rog\\anaconda3\\envs\\football_analytics\\lib\\site-packages (from mplsoccer) (3.10.0)\n",
      "Requirement already satisfied: numpy in c:\\users\\rog\\anaconda3\\envs\\football_analytics\\lib\\site-packages (from mplsoccer) (2.1.3)\n",
      "Requirement already satisfied: pandas in c:\\users\\rog\\anaconda3\\envs\\football_analytics\\lib\\site-packages (from mplsoccer) (2.2.3)\n",
      "Requirement already satisfied: pillow in c:\\users\\rog\\anaconda3\\envs\\football_analytics\\lib\\site-packages (from mplsoccer) (11.1.0)\n",
      "Requirement already satisfied: requests in c:\\users\\rog\\anaconda3\\envs\\football_analytics\\lib\\site-packages (from mplsoccer) (2.32.3)\n",
      "Requirement already satisfied: scipy in c:\\users\\rog\\anaconda3\\envs\\football_analytics\\lib\\site-packages (from mplsoccer) (1.15.3)\n",
      "Requirement already satisfied: seaborn in c:\\users\\rog\\anaconda3\\envs\\football_analytics\\lib\\site-packages (from mplsoccer) (0.13.2)\n",
      "Requirement already satisfied: contourpy>=1.0.1 in c:\\users\\rog\\anaconda3\\envs\\football_analytics\\lib\\site-packages (from matplotlib>=3.6->mplsoccer) (1.3.1)\n",
      "Requirement already satisfied: cycler>=0.10 in c:\\users\\rog\\anaconda3\\envs\\football_analytics\\lib\\site-packages (from matplotlib>=3.6->mplsoccer) (0.11.0)\n",
      "Requirement already satisfied: fonttools>=4.22.0 in c:\\users\\rog\\anaconda3\\envs\\football_analytics\\lib\\site-packages (from matplotlib>=3.6->mplsoccer) (4.55.3)\n",
      "Requirement already satisfied: kiwisolver>=1.3.1 in c:\\users\\rog\\anaconda3\\envs\\football_analytics\\lib\\site-packages (from matplotlib>=3.6->mplsoccer) (1.4.8)\n",
      "Requirement already satisfied: packaging>=20.0 in c:\\users\\rog\\anaconda3\\envs\\football_analytics\\lib\\site-packages (from matplotlib>=3.6->mplsoccer) (24.2)\n",
      "Requirement already satisfied: pyparsing>=2.3.1 in c:\\users\\rog\\anaconda3\\envs\\football_analytics\\lib\\site-packages (from matplotlib>=3.6->mplsoccer) (3.2.0)\n",
      "Requirement already satisfied: python-dateutil>=2.7 in c:\\users\\rog\\anaconda3\\envs\\football_analytics\\lib\\site-packages (from matplotlib>=3.6->mplsoccer) (2.9.0.post0)\n",
      "Requirement already satisfied: six>=1.5 in c:\\users\\rog\\anaconda3\\envs\\football_analytics\\lib\\site-packages (from python-dateutil>=2.7->matplotlib>=3.6->mplsoccer) (1.17.0)\n",
      "Requirement already satisfied: pytz>=2020.1 in c:\\users\\rog\\anaconda3\\envs\\football_analytics\\lib\\site-packages (from pandas->mplsoccer) (2024.1)\n",
      "Requirement already satisfied: tzdata>=2022.7 in c:\\users\\rog\\anaconda3\\envs\\football_analytics\\lib\\site-packages (from pandas->mplsoccer) (2025.2)\n",
      "Requirement already satisfied: charset-normalizer<4,>=2 in c:\\users\\rog\\anaconda3\\envs\\football_analytics\\lib\\site-packages (from requests->mplsoccer) (3.3.2)\n",
      "Requirement already satisfied: idna<4,>=2.5 in c:\\users\\rog\\anaconda3\\envs\\football_analytics\\lib\\site-packages (from requests->mplsoccer) (3.7)\n",
      "Requirement already satisfied: urllib3<3,>=1.21.1 in c:\\users\\rog\\anaconda3\\envs\\football_analytics\\lib\\site-packages (from requests->mplsoccer) (2.3.0)\n",
      "Requirement already satisfied: certifi>=2017.4.17 in c:\\users\\rog\\anaconda3\\envs\\football_analytics\\lib\\site-packages (from requests->mplsoccer) (2025.4.26)\n"
     ]
    }
   ],
   "source": [
    "# --- Plotting the Shot Map ---\n",
    "!pip install mplsoccer\n",
    "from mplsoccer import VerticalPitch"
   ]
  },
  {
   "cell_type": "code",
   "execution_count": 57,
   "id": "d988f97a-dc78-4209-bf1e-a5bf392b95b2",
   "metadata": {},
   "outputs": [
    {
     "data": {
      "image/png": "[encoded data removed]",
      "text/plain": [
       "<Figure size 800x700 with 1 Axes>"
      ]
     },
     "metadata": {},
     "output_type": "display_data"
    }
   ],
   "source": [
    "# 1. Create the football pitch\n",
    "pitch = VerticalPitch(pitch_type='statsbomb', pitch_color='#22312b', line_color='#c7d5cc')\n",
    "fig, ax = pitch.draw(figsize=(8, 7), constrained_layout=True, tight_layout=False)\n",
    "fig.set_facecolor('#22312b') # Set the background color of the entire figure\n",
    "\n",
    "# 2. Filter the DataFrame for goals and non-goals\n",
    "df_goals = coutinho_df[coutinho_df['shot_outcome'] == 'Goal']\n",
    "df_non_goals = coutinho_df[coutinho_df['shot_outcome'] != 'Goal']\n",
    "\n",
    "# 3. Plot the non-goal shots\n",
    "# We plot the non-goals first so the goals will appear on top\n",
    "pitch.scatter(df_non_goals.x, df_non_goals.y,\n",
    "              alpha=0.5, s=60, color=\"#ffffff\",\n",
    "              ax=ax, label='Miss/Saved')\n",
    "\n",
    "# 4. Plot the goal shots\n",
    "pitch.scatter(df_goals.x, df_goals.y,\n",
    "              alpha=0.8, s=90, color=\"#ff4500\",\n",
    "              ax=ax, label='Goal', marker='*') # Use a star marker for goals\n",
    "\n",
    "# 5. Add titles and legend\n",
    "ax.set_title(\"Philippe Coutinho's Shots (Premier League 2015/16)\", color='white', fontsize=18)\n",
    "legend = ax.legend(loc='upper right', fontsize=12, facecolor='#4d4d4d', edgecolor='white')\n",
    "for text in legend.get_texts():\n",
    "    text.set_color('white')\n",
    "\n",
    "# 6. Add the data source credit to the figure\n",
    "# (0.97, 0.00) means 97% to the right and 0% from the bottom of the axes.\n",
    "ax.text(0.97, 0.00, 'Data: StatsBomb',\n",
    "        transform=ax.transAxes,  # Use axes coordinates\n",
    "        ha='right',  # Horizontal alignment\n",
    "        va='bottom',  # Vertical alignment\n",
    "        fontsize=10,\n",
    "        color='#c7d5cc') # Use the same color as the pitch lines for a subtle look\n",
    "\n",
    "# Show the plot\n",
    "plt.show()"
   ]
  },
  {
   "cell_type": "code",
   "execution_count": 61,
   "id": "68daf566-1276-49f3-affe-de2d113fa065",
   "metadata": {},
   "outputs": [],
   "source": [
    "# 7. Save the figure to a file\n",
    "# We will save it inside the 'assets' folder for good organization.\n",
    "fig.savefig('assets/coutinho_shot_map.png', dpi=300)"
   ]
  },
  {
   "cell_type": "code",
   "execution_count": 60,
   "id": "015fee6c-c4b7-4c87-953d-9d3d7020ee10",
   "metadata": {},
   "outputs": [
    {
     "name": "stdout",
     "output_type": "stream",
     "text": [
      "Total goals scored by Coutinho: 8\n"
     ]
    }
   ],
   "source": [
    "# Filter for goals and count the number of rows\n",
    "num_goals = len(coutinho_df[coutinho_df['shot_outcome'] == 'Goal'])\n",
    "\n",
    "print(f\"Total goals scored by Coutinho: {num_goals}\")"
   ]
  },
  {
   "cell_type": "code",
   "execution_count": 52,
   "id": "1aacecfe-8c66-4c98-9c68-ac878919a763",
   "metadata": {},
   "outputs": [
    {
     "name": "stdout",
     "output_type": "stream",
     "text": [
      "Total shots: 111\n",
      "Shots outside the box (Precise definition): 69\n",
      "Shots inside the box (Precise definition): 42\n"
     ]
    }
   ],
   "source": [
    "# The precise definition for a shot being inside the penalty box\n",
    "is_in_box = (coutinho_df['x'] >= 102) & (coutinho_df['y'] >= 18) & (coutinho_df['y'] <= 62)\n",
    "\n",
    "# Use this precise filter to get the shots inside the box\n",
    "shots_inside_box_precise = coutinho_df[is_in_box]\n",
    "\n",
    "# Shots from outside the box are everything that is NOT in the box\n",
    "# The '~' symbol means NOT\n",
    "shots_outside_box_precise = coutinho_df[~is_in_box]\n",
    "\n",
    "print(f\"Total shots: {len(coutinho_df)}\")\n",
    "print(f\"Shots outside the box (Precise definition): {len(shots_outside_box_precise)}\")\n",
    "print(f\"Shots inside the box (Precise definition): {len(shots_inside_box_precise)}\")"
   ]
  },
  {
   "cell_type": "code",
   "execution_count": 51,
   "id": "f9cc3d4c-8bb4-4e9c-ab0e-9745b1638b11",
   "metadata": {},
   "outputs": [
    {
     "name": "stdout",
     "output_type": "stream",
     "text": [
      "Total goals scored: 8\n",
      "Total Expected Goals (xG): 7.13\n",
      "Performance vs xG: 0.87\n"
     ]
    }
   ],
   "source": [
    "# Sum up all the xG values from his shots\n",
    "total_xg = coutinho_df['shot_statsbomb_xg'].sum()\n",
    "\n",
    "print(f\"Total goals scored: {num_goals}\")\n",
    "print(f\"Total Expected Goals (xG): {total_xg:.2f}\") # .2f keeps two decimal places\n",
    "print(f\"Performance vs xG: {num_goals - total_xg:.2f}\")"
   ]
  },
  {
   "cell_type": "code",
   "execution_count": null,
   "id": "851d00c1-ed92-49c5-a4a3-617a300dc4d1",
   "metadata": {},
   "outputs": [],
   "source": []
  }
 ],
 "metadata": {
  "kernelspec": {
   "display_name": "Python 3 (ipykernel)",
   "language": "python",
   "name": "python3"
  },
  "language_info": {
   "codemirror_mode": {
    "name": "ipython",
    "version": 3
   },
   "file_extension": ".py",
   "mimetype": "text/x-python",
   "name": "python",
   "nbconvert_exporter": "python",
   "pygments_lexer": "ipython3",
   "version": "3.11.13"
  }
 },
 "nbformat": 4,
 "nbformat_minor": 5
}
